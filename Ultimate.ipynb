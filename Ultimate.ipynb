{
 "cells": [
  {
   "cell_type": "code",
   "execution_count": 1,
   "id": "181b3f49",
   "metadata": {},
   "outputs": [
    {
     "name": "stderr",
     "output_type": "stream",
     "text": [
      "<frozen importlib._bootstrap>:228: RuntimeWarning: scipy._lib.messagestream.MessageStream size changed, may indicate binary incompatibility. Expected 56 from C header, got 64 from PyObject\n"
     ]
    }
   ],
   "source": [
    "#Load all the necessary packages for the wrangling part of the project\n",
    "import requests\n",
    "from pathlib import Path\n",
    "from eod import EodHistoricalData\n",
    "from twelvedata import TDClient\n",
    "import datetime as dt\n",
    "import pandas as pd\n",
    "import numpy as np\n",
    "import numpy.random\n",
    "import os\n",
    "import matplotlib.pyplot as plt\n",
    "import seaborn as sns\n",
    "from sklearn.decomposition import PCA\n",
    "from sklearn.preprocessing import scale\n",
    "\n",
    "import pandas as pd\n",
    "import numpy as np\n",
    "import os\n",
    "import pickle\n",
    "import matplotlib.pyplot as plt\n",
    "import seaborn as sns\n",
    "from sklearn.cluster import KMeans\n",
    "from sklearn import __version__ as sklearn_version\n",
    "from sklearn.decomposition import PCA\n",
    "from sklearn.preprocessing import scale\n",
    "from sklearn.metrics import accuracy_score, f1_score\n",
    "\n",
    "import tensorflow as tf\n",
    "\n",
    "from sklearn.model_selection import train_test_split, cross_validate, GridSearchCV, learning_curve\n",
    "from sklearn.preprocessing import StandardScaler, MinMaxScaler\n",
    "from sklearn.dummy import DummyRegressor\n",
    "from sklearn.linear_model import LinearRegression\n",
    "from sklearn.ensemble import RandomForestRegressor, RandomForestClassifier\n",
    "from sklearn.metrics import r2_score, mean_squared_error, mean_absolute_error\n",
    "from sklearn.pipeline import make_pipeline\n",
    "from sklearn.impute import SimpleImputer\n",
    "from sklearn.feature_selection import SelectKBest, f_regression\n",
    "import datetime"
   ]
  },
  {
   "cell_type": "code",
   "execution_count": 33,
   "id": "1b7a06c3",
   "metadata": {},
   "outputs": [],
   "source": [
    "import json"
   ]
  },
  {
   "cell_type": "markdown",
   "id": "95ab3f55",
   "metadata": {},
   "source": [
    "## Part 1"
   ]
  },
  {
   "cell_type": "code",
   "execution_count": 34,
   "id": "0767147a",
   "metadata": {},
   "outputs": [],
   "source": [
    "f = open('logins.json')\n",
    "data = json.load(f)\n",
    "df = pd.DataFrame(data)"
   ]
  },
  {
   "cell_type": "code",
   "execution_count": 35,
   "id": "860d76aa",
   "metadata": {},
   "outputs": [
    {
     "data": {
      "text/html": [
       "<div>\n",
       "<style scoped>\n",
       "    .dataframe tbody tr th:only-of-type {\n",
       "        vertical-align: middle;\n",
       "    }\n",
       "\n",
       "    .dataframe tbody tr th {\n",
       "        vertical-align: top;\n",
       "    }\n",
       "\n",
       "    .dataframe thead th {\n",
       "        text-align: right;\n",
       "    }\n",
       "</style>\n",
       "<table border=\"1\" class=\"dataframe\">\n",
       "  <thead>\n",
       "    <tr style=\"text-align: right;\">\n",
       "      <th></th>\n",
       "      <th>login_time</th>\n",
       "    </tr>\n",
       "  </thead>\n",
       "  <tbody>\n",
       "    <tr>\n",
       "      <th>0</th>\n",
       "      <td>1970-01-01 20:13:18</td>\n",
       "    </tr>\n",
       "    <tr>\n",
       "      <th>1</th>\n",
       "      <td>1970-01-01 20:16:10</td>\n",
       "    </tr>\n",
       "    <tr>\n",
       "      <th>2</th>\n",
       "      <td>1970-01-01 20:16:37</td>\n",
       "    </tr>\n",
       "    <tr>\n",
       "      <th>3</th>\n",
       "      <td>1970-01-01 20:16:36</td>\n",
       "    </tr>\n",
       "    <tr>\n",
       "      <th>4</th>\n",
       "      <td>1970-01-01 20:26:21</td>\n",
       "    </tr>\n",
       "    <tr>\n",
       "      <th>...</th>\n",
       "      <td>...</td>\n",
       "    </tr>\n",
       "    <tr>\n",
       "      <th>93137</th>\n",
       "      <td>1970-04-13 18:50:19</td>\n",
       "    </tr>\n",
       "    <tr>\n",
       "      <th>93138</th>\n",
       "      <td>1970-04-13 18:43:56</td>\n",
       "    </tr>\n",
       "    <tr>\n",
       "      <th>93139</th>\n",
       "      <td>1970-04-13 18:54:02</td>\n",
       "    </tr>\n",
       "    <tr>\n",
       "      <th>93140</th>\n",
       "      <td>1970-04-13 18:57:38</td>\n",
       "    </tr>\n",
       "    <tr>\n",
       "      <th>93141</th>\n",
       "      <td>1970-04-13 18:54:23</td>\n",
       "    </tr>\n",
       "  </tbody>\n",
       "</table>\n",
       "<p>93142 rows × 1 columns</p>\n",
       "</div>"
      ],
      "text/plain": [
       "                login_time\n",
       "0      1970-01-01 20:13:18\n",
       "1      1970-01-01 20:16:10\n",
       "2      1970-01-01 20:16:37\n",
       "3      1970-01-01 20:16:36\n",
       "4      1970-01-01 20:26:21\n",
       "...                    ...\n",
       "93137  1970-04-13 18:50:19\n",
       "93138  1970-04-13 18:43:56\n",
       "93139  1970-04-13 18:54:02\n",
       "93140  1970-04-13 18:57:38\n",
       "93141  1970-04-13 18:54:23\n",
       "\n",
       "[93142 rows x 1 columns]"
      ]
     },
     "execution_count": 35,
     "metadata": {},
     "output_type": "execute_result"
    }
   ],
   "source": [
    "df"
   ]
  },
  {
   "cell_type": "code",
   "execution_count": 36,
   "id": "a7ad259f",
   "metadata": {},
   "outputs": [
    {
     "data": {
      "text/plain": [
       "login_time    object\n",
       "dtype: object"
      ]
     },
     "execution_count": 36,
     "metadata": {},
     "output_type": "execute_result"
    }
   ],
   "source": [
    "df.dtypes"
   ]
  },
  {
   "cell_type": "code",
   "execution_count": 74,
   "id": "aaec3acb",
   "metadata": {},
   "outputs": [],
   "source": [
    "df.login_time = pd.to_datetime(df.login_time)\n",
    "df.index = pd.to_datetime(df.login_time)\n",
    "group = df.groupby(pd.Grouper(freq='15Min')).agg('count')\n",
    "group['ma'] = group['login_time'].rolling(96).sum()\n",
    "group['time'] = group.index"
   ]
  },
  {
   "cell_type": "code",
   "execution_count": 75,
   "id": "028f540f",
   "metadata": {},
   "outputs": [
    {
     "data": {
      "image/png": "[encoded data removed]",
      "text/plain": [
       "<Figure size 432x288 with 1 Axes>"
      ]
     },
     "metadata": {
      "needs_background": "light"
     },
     "output_type": "display_data"
    }
   ],
   "source": [
    "sns.lineplot(\n",
    "    x='time',\n",
    "    y='ma',\n",
    "    data=group)\n",
    "plt.show()"
   ]
  },
  {
   "cell_type": "code",
   "execution_count": 79,
   "id": "b3262ac2",
   "metadata": {
    "scrolled": true
   },
   "outputs": [
    {
     "data": {
      "image/png": "[encoded data removed]",
      "text/plain": [
       "<Figure size 720x720 with 1 Axes>"
      ]
     },
     "metadata": {
      "needs_background": "light"
     },
     "output_type": "display_data"
    }
   ],
   "source": [
    "def window_lag(size):\n",
    "    return np.ones(size)/float(size)\n",
    "\n",
    "# assign data\n",
    "timepart = group.index\n",
    "height = group.iloc[:,0]\n",
    "_ = plt.figure(figsize=(10,10))\n",
    "plt.plot(timepart,height,'k.')\n",
    "plt.plot(timepart,np.convolve(height,window_lag(50),'same'),'b')\n",
    "plt.plot(timepart,np.convolve(height,window_lag(100),'same'),'r')\n",
    "plt.show()"
   ]
  },
  {
   "cell_type": "code",
   "execution_count": 81,
   "id": "b418eebf",
   "metadata": {
    "scrolled": true
   },
   "outputs": [],
   "source": [
    "group['time_during_week']=group['time'].dt.strftime('%H:%M:%S') "
   ]
  },
  {
   "cell_type": "code",
   "execution_count": 106,
   "id": "0c9c76fd",
   "metadata": {},
   "outputs": [],
   "source": [
    "by_time_of_the_day = group.groupby('time_during_week').agg('sum')"
   ]
  },
  {
   "cell_type": "code",
   "execution_count": 107,
   "id": "a41ffccd",
   "metadata": {
    "scrolled": true
   },
   "outputs": [
    {
     "data": {
      "text/html": [
       "<div>\n",
       "<style scoped>\n",
       "    .dataframe tbody tr th:only-of-type {\n",
       "        vertical-align: middle;\n",
       "    }\n",
       "\n",
       "    .dataframe tbody tr th {\n",
       "        vertical-align: top;\n",
       "    }\n",
       "\n",
       "    .dataframe thead th {\n",
       "        text-align: right;\n",
       "    }\n",
       "</style>\n",
       "<table border=\"1\" class=\"dataframe\">\n",
       "  <thead>\n",
       "    <tr style=\"text-align: right;\">\n",
       "      <th></th>\n",
       "      <th>login_time</th>\n",
       "      <th>ma</th>\n",
       "    </tr>\n",
       "    <tr>\n",
       "      <th>time_during_week</th>\n",
       "      <th></th>\n",
       "      <th></th>\n",
       "    </tr>\n",
       "  </thead>\n",
       "  <tbody>\n",
       "    <tr>\n",
       "      <th>00:00:00</th>\n",
       "      <td>1439</td>\n",
       "      <td>92637.0</td>\n",
       "    </tr>\n",
       "    <tr>\n",
       "      <th>00:15:00</th>\n",
       "      <td>1547</td>\n",
       "      <td>92627.0</td>\n",
       "    </tr>\n",
       "    <tr>\n",
       "      <th>00:30:00</th>\n",
       "      <td>1525</td>\n",
       "      <td>92623.0</td>\n",
       "    </tr>\n",
       "    <tr>\n",
       "      <th>00:45:00</th>\n",
       "      <td>1482</td>\n",
       "      <td>92614.0</td>\n",
       "    </tr>\n",
       "    <tr>\n",
       "      <th>01:00:00</th>\n",
       "      <td>1549</td>\n",
       "      <td>92611.0</td>\n",
       "    </tr>\n",
       "    <tr>\n",
       "      <th>...</th>\n",
       "      <td>...</td>\n",
       "      <td>...</td>\n",
       "    </tr>\n",
       "    <tr>\n",
       "      <th>22:45:00</th>\n",
       "      <td>1637</td>\n",
       "      <td>92657.0</td>\n",
       "    </tr>\n",
       "    <tr>\n",
       "      <th>23:00:00</th>\n",
       "      <td>1573</td>\n",
       "      <td>92648.0</td>\n",
       "    </tr>\n",
       "    <tr>\n",
       "      <th>23:15:00</th>\n",
       "      <td>1552</td>\n",
       "      <td>92647.0</td>\n",
       "    </tr>\n",
       "    <tr>\n",
       "      <th>23:30:00</th>\n",
       "      <td>1456</td>\n",
       "      <td>92641.0</td>\n",
       "    </tr>\n",
       "    <tr>\n",
       "      <th>23:45:00</th>\n",
       "      <td>1477</td>\n",
       "      <td>92635.0</td>\n",
       "    </tr>\n",
       "  </tbody>\n",
       "</table>\n",
       "<p>96 rows × 2 columns</p>\n",
       "</div>"
      ],
      "text/plain": [
       "                  login_time       ma\n",
       "time_during_week                     \n",
       "00:00:00                1439  92637.0\n",
       "00:15:00                1547  92627.0\n",
       "00:30:00                1525  92623.0\n",
       "00:45:00                1482  92614.0\n",
       "01:00:00                1549  92611.0\n",
       "...                      ...      ...\n",
       "22:45:00                1637  92657.0\n",
       "23:00:00                1573  92648.0\n",
       "23:15:00                1552  92647.0\n",
       "23:30:00                1456  92641.0\n",
       "23:45:00                1477  92635.0\n",
       "\n",
       "[96 rows x 2 columns]"
      ]
     },
     "execution_count": 107,
     "metadata": {},
     "output_type": "execute_result"
    }
   ],
   "source": [
    "by_time_of_the_day"
   ]
  },
  {
   "cell_type": "code",
   "execution_count": 110,
   "id": "557ece88",
   "metadata": {},
   "outputs": [],
   "source": [
    "%matplotlib inline"
   ]
  },
  {
   "cell_type": "code",
   "execution_count": 152,
   "id": "ffbb940e",
   "metadata": {},
   "outputs": [
    {
     "data": {
      "text/plain": [
       "Index(['00:00:00', '00:15:00', '00:30:00', '00:45:00', '01:00:00', '01:15:00',\n",
       "       '01:30:00', '01:45:00', '02:00:00', '02:15:00', '02:30:00', '02:45:00',\n",
       "       '03:00:00', '03:15:00', '03:30:00', '03:45:00', '04:00:00', '04:15:00',\n",
       "       '04:30:00', '04:45:00', '05:00:00', '05:15:00', '05:30:00', '05:45:00',\n",
       "       '06:00:00', '06:15:00', '06:30:00', '06:45:00', '07:00:00', '07:15:00',\n",
       "       '07:30:00', '07:45:00', '08:00:00', '08:15:00', '08:30:00', '08:45:00',\n",
       "       '09:00:00', '09:15:00', '09:30:00', '09:45:00', '10:00:00', '10:15:00',\n",
       "       '10:30:00', '10:45:00', '11:00:00', '11:15:00', '11:30:00', '11:45:00',\n",
       "       '12:00:00', '12:15:00', '12:30:00', '12:45:00', '13:00:00', '13:15:00',\n",
       "       '13:30:00', '13:45:00', '14:00:00', '14:15:00', '14:30:00', '14:45:00',\n",
       "       '15:00:00', '15:15:00', '15:30:00', '15:45:00', '16:00:00', '16:15:00',\n",
       "       '16:30:00', '16:45:00', '17:00:00', '17:15:00', '17:30:00', '17:45:00',\n",
       "       '18:00:00', '18:15:00', '18:30:00', '18:45:00', '19:00:00', '19:15:00',\n",
       "       '19:30:00', '19:45:00', '20:00:00', '20:15:00', '20:30:00', '20:45:00',\n",
       "       '21:00:00', '21:15:00', '21:30:00', '21:45:00', '22:00:00', '22:15:00',\n",
       "       '22:30:00', '22:45:00', '23:00:00', '23:15:00', '23:30:00', '23:45:00'],\n",
       "      dtype='object', name='time_during_week')"
      ]
     },
     "execution_count": 152,
     "metadata": {},
     "output_type": "execute_result"
    }
   ],
   "source": [
    "by_time_of_the_day.index"
   ]
  },
  {
   "cell_type": "code",
   "execution_count": 170,
   "id": "6f6e1bec",
   "metadata": {
    "scrolled": false
   },
   "outputs": [
    {
     "data": {
      "image/png": "[encoded data removed]",
      "text/plain": [
       "<Figure size 432x288 with 1 Axes>"
      ]
     },
     "metadata": {
      "needs_background": "light"
     },
     "output_type": "display_data"
    }
   ],
   "source": [
    "from matplotlib.dates import DateFormatter, DayLocator\n",
    "\n",
    "_ = plt.figure()\n",
    "_ = plt.plot(by_time_of_the_day.index, by_time_of_the_day.login_time, color='red')\n",
    "_ = plt.xlabel(\"Time\")\n",
    "_ = plt.ylabel(\"Frequency of Logins\")\n",
    "_ = plt.xticks([0, int(len(by_time_of_the_day)*0.25),int(len(by_time_of_the_day)*0.5),int(len(by_time_of_the_day)*0.75), len(by_time_of_the_day)-1])\n",
    "_ = plt.show()"
   ]
  },
  {
   "cell_type": "code",
   "execution_count": 167,
   "id": "0000dc79",
   "metadata": {},
   "outputs": [
    {
     "name": "stdout",
     "output_type": "stream",
     "text": [
      "From this graph, we can see that the user logs in more often at noon and midnight, near 12am and 12pm.\n"
     ]
    }
   ],
   "source": [
    "print(\"From this graph, we can see that the user logs in more often at noon and midnight, near 12am and 12pm.\")"
   ]
  },
  {
   "cell_type": "markdown",
   "id": "a526cc55",
   "metadata": {},
   "source": [
    "## Part 2"
   ]
  },
  {
   "cell_type": "markdown",
   "id": "446ca0d3",
   "metadata": {},
   "source": [
    "### 1) What would you choose as the key measure of success of this experiment in encouraging driver partners to serve both cities, and why would you choose this metric?"
   ]
  },
  {
   "cell_type": "markdown",
   "id": "d60a5ff3",
   "metadata": {},
   "source": [
    "I believe two types of measure would prove success of this experiement. First is the total amount of trip taken between these two cities for companies like Uber and Lyft, and if there are more trips from online taxi services company, it could imply that more drivings are happening between the two cities. The other metric is the total nubmer of cars coming in both cities."
   ]
  },
  {
   "cell_type": "markdown",
   "id": "95e5b1ae",
   "metadata": {},
   "source": [
    "### 2) Describe a practical experiment you would design to compare the effectiveness of the proposed change in relation to the key measure of success. Please provide details on:"
   ]
  },
  {
   "cell_type": "markdown",
   "id": "2412ac82",
   "metadata": {},
   "source": [
    "#### a) how you will implement the experiment"
   ]
  },
  {
   "cell_type": "markdown",
   "id": "a24bc9a9",
   "metadata": {},
   "source": [
    "I will try to compare the metrics of my choice, which are data of trips taken between the cities from Uber or Lyft or data of the total number of times cars entered the toll."
   ]
  },
  {
   "cell_type": "markdown",
   "id": "cf5908a0",
   "metadata": {},
   "source": [
    "#### b) what statistical test(s) you will conduct to verify the significance of the observation"
   ]
  },
  {
   "cell_type": "markdown",
   "id": "b76434f0",
   "metadata": {},
   "source": [
    "I will use a paired t-test to verify the siginificance of the observation"
   ]
  },
  {
   "cell_type": "markdown",
   "id": "202c0ba5",
   "metadata": {},
   "source": [
    "#### 3) how you would interpret the results and provide recommendations to the city operations team along with any caveats."
   ]
  },
  {
   "cell_type": "markdown",
   "id": "0b561ee2",
   "metadata": {},
   "source": [
    "If there were to be a significant increase in the total number of times cars enter both cities, we could interpret the result as a success. \n",
    "\n",
    "In this scenario, our null hypothesis is that the average number of times cars enter both cities remains the same after implementing the new policy, and our alternative hypothesis is that after implementing the new policy, the avergae number of times cars enter both cities is greater than that before implementing the new policy"
   ]
  },
  {
   "cell_type": "markdown",
   "id": "8252a95b",
   "metadata": {},
   "source": [
    "## Part 3"
   ]
  },
  {
   "cell_type": "code",
   "execution_count": 172,
   "id": "48782fe6",
   "metadata": {},
   "outputs": [],
   "source": [
    "f1 = open('ultimate_data_challenge.json')\n",
    "data1 = json.load(f1)\n",
    "dfu = pd.DataFrame(data1)"
   ]
  },
  {
   "cell_type": "code",
   "execution_count": 173,
   "id": "d377e478",
   "metadata": {
    "scrolled": true
   },
   "outputs": [
    {
     "data": {
      "text/html": [
       "<div>\n",
       "<style scoped>\n",
       "    .dataframe tbody tr th:only-of-type {\n",
       "        vertical-align: middle;\n",
       "    }\n",
       "\n",
       "    .dataframe tbody tr th {\n",
       "        vertical-align: top;\n",
       "    }\n",
       "\n",
       "    .dataframe thead th {\n",
       "        text-align: right;\n",
       "    }\n",
       "</style>\n",
       "<table border=\"1\" class=\"dataframe\">\n",
       "  <thead>\n",
       "    <tr style=\"text-align: right;\">\n",
       "      <th></th>\n",
       "      <th>city</th>\n",
       "      <th>trips_in_first_30_days</th>\n",
       "      <th>signup_date</th>\n",
       "      <th>avg_rating_of_driver</th>\n",
       "      <th>avg_surge</th>\n",
       "      <th>last_trip_date</th>\n",
       "      <th>phone</th>\n",
       "      <th>surge_pct</th>\n",
       "      <th>ultimate_black_user</th>\n",
       "      <th>weekday_pct</th>\n",
       "      <th>avg_dist</th>\n",
       "      <th>avg_rating_by_driver</th>\n",
       "    </tr>\n",
       "  </thead>\n",
       "  <tbody>\n",
       "    <tr>\n",
       "      <th>0</th>\n",
       "      <td>King's Landing</td>\n",
       "      <td>4</td>\n",
       "      <td>2014-01-25</td>\n",
       "      <td>4.7</td>\n",
       "      <td>1.10</td>\n",
       "      <td>2014-06-17</td>\n",
       "      <td>iPhone</td>\n",
       "      <td>15.4</td>\n",
       "      <td>True</td>\n",
       "      <td>46.2</td>\n",
       "      <td>3.67</td>\n",
       "      <td>5.0</td>\n",
       "    </tr>\n",
       "    <tr>\n",
       "      <th>1</th>\n",
       "      <td>Astapor</td>\n",
       "      <td>0</td>\n",
       "      <td>2014-01-29</td>\n",
       "      <td>5.0</td>\n",
       "      <td>1.00</td>\n",
       "      <td>2014-05-05</td>\n",
       "      <td>Android</td>\n",
       "      <td>0.0</td>\n",
       "      <td>False</td>\n",
       "      <td>50.0</td>\n",
       "      <td>8.26</td>\n",
       "      <td>5.0</td>\n",
       "    </tr>\n",
       "    <tr>\n",
       "      <th>2</th>\n",
       "      <td>Astapor</td>\n",
       "      <td>3</td>\n",
       "      <td>2014-01-06</td>\n",
       "      <td>4.3</td>\n",
       "      <td>1.00</td>\n",
       "      <td>2014-01-07</td>\n",
       "      <td>iPhone</td>\n",
       "      <td>0.0</td>\n",
       "      <td>False</td>\n",
       "      <td>100.0</td>\n",
       "      <td>0.77</td>\n",
       "      <td>5.0</td>\n",
       "    </tr>\n",
       "    <tr>\n",
       "      <th>3</th>\n",
       "      <td>King's Landing</td>\n",
       "      <td>9</td>\n",
       "      <td>2014-01-10</td>\n",
       "      <td>4.6</td>\n",
       "      <td>1.14</td>\n",
       "      <td>2014-06-29</td>\n",
       "      <td>iPhone</td>\n",
       "      <td>20.0</td>\n",
       "      <td>True</td>\n",
       "      <td>80.0</td>\n",
       "      <td>2.36</td>\n",
       "      <td>4.9</td>\n",
       "    </tr>\n",
       "    <tr>\n",
       "      <th>4</th>\n",
       "      <td>Winterfell</td>\n",
       "      <td>14</td>\n",
       "      <td>2014-01-27</td>\n",
       "      <td>4.4</td>\n",
       "      <td>1.19</td>\n",
       "      <td>2014-03-15</td>\n",
       "      <td>Android</td>\n",
       "      <td>11.8</td>\n",
       "      <td>False</td>\n",
       "      <td>82.4</td>\n",
       "      <td>3.13</td>\n",
       "      <td>4.9</td>\n",
       "    </tr>\n",
       "    <tr>\n",
       "      <th>...</th>\n",
       "      <td>...</td>\n",
       "      <td>...</td>\n",
       "      <td>...</td>\n",
       "      <td>...</td>\n",
       "      <td>...</td>\n",
       "      <td>...</td>\n",
       "      <td>...</td>\n",
       "      <td>...</td>\n",
       "      <td>...</td>\n",
       "      <td>...</td>\n",
       "      <td>...</td>\n",
       "      <td>...</td>\n",
       "    </tr>\n",
       "    <tr>\n",
       "      <th>49995</th>\n",
       "      <td>King's Landing</td>\n",
       "      <td>0</td>\n",
       "      <td>2014-01-25</td>\n",
       "      <td>5.0</td>\n",
       "      <td>1.00</td>\n",
       "      <td>2014-06-05</td>\n",
       "      <td>iPhone</td>\n",
       "      <td>0.0</td>\n",
       "      <td>False</td>\n",
       "      <td>100.0</td>\n",
       "      <td>5.63</td>\n",
       "      <td>4.2</td>\n",
       "    </tr>\n",
       "    <tr>\n",
       "      <th>49996</th>\n",
       "      <td>Astapor</td>\n",
       "      <td>1</td>\n",
       "      <td>2014-01-24</td>\n",
       "      <td>NaN</td>\n",
       "      <td>1.00</td>\n",
       "      <td>2014-01-25</td>\n",
       "      <td>iPhone</td>\n",
       "      <td>0.0</td>\n",
       "      <td>False</td>\n",
       "      <td>0.0</td>\n",
       "      <td>0.00</td>\n",
       "      <td>4.0</td>\n",
       "    </tr>\n",
       "    <tr>\n",
       "      <th>49997</th>\n",
       "      <td>Winterfell</td>\n",
       "      <td>0</td>\n",
       "      <td>2014-01-31</td>\n",
       "      <td>5.0</td>\n",
       "      <td>1.00</td>\n",
       "      <td>2014-05-22</td>\n",
       "      <td>Android</td>\n",
       "      <td>0.0</td>\n",
       "      <td>True</td>\n",
       "      <td>100.0</td>\n",
       "      <td>3.86</td>\n",
       "      <td>5.0</td>\n",
       "    </tr>\n",
       "    <tr>\n",
       "      <th>49998</th>\n",
       "      <td>Astapor</td>\n",
       "      <td>2</td>\n",
       "      <td>2014-01-14</td>\n",
       "      <td>3.0</td>\n",
       "      <td>1.00</td>\n",
       "      <td>2014-01-15</td>\n",
       "      <td>iPhone</td>\n",
       "      <td>0.0</td>\n",
       "      <td>False</td>\n",
       "      <td>100.0</td>\n",
       "      <td>4.58</td>\n",
       "      <td>3.5</td>\n",
       "    </tr>\n",
       "    <tr>\n",
       "      <th>49999</th>\n",
       "      <td>Astapor</td>\n",
       "      <td>0</td>\n",
       "      <td>2014-01-18</td>\n",
       "      <td>NaN</td>\n",
       "      <td>1.00</td>\n",
       "      <td>2014-04-20</td>\n",
       "      <td>Android</td>\n",
       "      <td>0.0</td>\n",
       "      <td>False</td>\n",
       "      <td>0.0</td>\n",
       "      <td>3.49</td>\n",
       "      <td>5.0</td>\n",
       "    </tr>\n",
       "  </tbody>\n",
       "</table>\n",
       "<p>50000 rows × 12 columns</p>\n",
       "</div>"
      ],
      "text/plain": [
       "                 city  trips_in_first_30_days signup_date  \\\n",
       "0      King's Landing                       4  2014-01-25   \n",
       "1             Astapor                       0  2014-01-29   \n",
       "2             Astapor                       3  2014-01-06   \n",
       "3      King's Landing                       9  2014-01-10   \n",
       "4          Winterfell                      14  2014-01-27   \n",
       "...               ...                     ...         ...   \n",
       "49995  King's Landing                       0  2014-01-25   \n",
       "49996         Astapor                       1  2014-01-24   \n",
       "49997      Winterfell                       0  2014-01-31   \n",
       "49998         Astapor                       2  2014-01-14   \n",
       "49999         Astapor                       0  2014-01-18   \n",
       "\n",
       "       avg_rating_of_driver  avg_surge last_trip_date    phone  surge_pct  \\\n",
       "0                       4.7       1.10     2014-06-17   iPhone       15.4   \n",
       "1                       5.0       1.00     2014-05-05  Android        0.0   \n",
       "2                       4.3       1.00     2014-01-07   iPhone        0.0   \n",
       "3                       4.6       1.14     2014-06-29   iPhone       20.0   \n",
       "4                       4.4       1.19     2014-03-15  Android       11.8   \n",
       "...                     ...        ...            ...      ...        ...   \n",
       "49995                   5.0       1.00     2014-06-05   iPhone        0.0   \n",
       "49996                   NaN       1.00     2014-01-25   iPhone        0.0   \n",
       "49997                   5.0       1.00     2014-05-22  Android        0.0   \n",
       "49998                   3.0       1.00     2014-01-15   iPhone        0.0   \n",
       "49999                   NaN       1.00     2014-04-20  Android        0.0   \n",
       "\n",
       "       ultimate_black_user  weekday_pct  avg_dist  avg_rating_by_driver  \n",
       "0                     True         46.2      3.67                   5.0  \n",
       "1                    False         50.0      8.26                   5.0  \n",
       "2                    False        100.0      0.77                   5.0  \n",
       "3                     True         80.0      2.36                   4.9  \n",
       "4                    False         82.4      3.13                   4.9  \n",
       "...                    ...          ...       ...                   ...  \n",
       "49995                False        100.0      5.63                   4.2  \n",
       "49996                False          0.0      0.00                   4.0  \n",
       "49997                 True        100.0      3.86                   5.0  \n",
       "49998                False        100.0      4.58                   3.5  \n",
       "49999                False          0.0      3.49                   5.0  \n",
       "\n",
       "[50000 rows x 12 columns]"
      ]
     },
     "execution_count": 173,
     "metadata": {},
     "output_type": "execute_result"
    }
   ],
   "source": [
    "dfu"
   ]
  },
  {
   "cell_type": "code",
   "execution_count": 178,
   "id": "4c985bbc",
   "metadata": {},
   "outputs": [
    {
     "name": "stdout",
     "output_type": "stream",
     "text": [
      "2014-07-01 is the last day of the dataset, so anyone that had a trip between 2014-06-01 to 2014-07-01 are considered to be active\n"
     ]
    }
   ],
   "source": [
    "print(dfu['last_trip_date'].max() + ' is the last day of the dataset, so anyone that had a trip between 2014-06-01 to 2014-07-01 are considered to be active')"
   ]
  },
  {
   "cell_type": "markdown",
   "id": "8ccb5873",
   "metadata": {},
   "source": [
    "### 3.1 EDA and Data Wrangling"
   ]
  },
  {
   "cell_type": "markdown",
   "id": "fb0a1e2d",
   "metadata": {},
   "source": [
    "#### For avg_rating_of_driver, we will fill the na with the median values"
   ]
  },
  {
   "cell_type": "code",
   "execution_count": 186,
   "id": "8e6cc440",
   "metadata": {},
   "outputs": [
    {
     "data": {
      "text/plain": [
       "(array([2.560e+02, 7.000e+00, 2.180e+02, 1.200e+02, 1.000e+02, 1.404e+03,\n",
       "        1.452e+03, 4.846e+03, 5.415e+03, 2.806e+04]),\n",
       " array([1. , 1.4, 1.8, 2.2, 2.6, 3. , 3.4, 3.8, 4.2, 4.6, 5. ]),\n",
       " <BarContainer object of 10 artists>)"
      ]
     },
     "execution_count": 186,
     "metadata": {},
     "output_type": "execute_result"
    },
    {
     "data": {
      "image/png": "[encoded data removed]",
      "text/plain": [
       "<Figure size 432x288 with 1 Axes>"
      ]
     },
     "metadata": {
      "needs_background": "light"
     },
     "output_type": "display_data"
    }
   ],
   "source": [
    "plt.hist(dfu['avg_rating_of_driver'])"
   ]
  },
  {
   "cell_type": "code",
   "execution_count": 183,
   "id": "ecf73273",
   "metadata": {
    "scrolled": true
   },
   "outputs": [
    {
     "name": "stdout",
     "output_type": "stream",
     "text": [
      "<class 'pandas.core.frame.DataFrame'>\n",
      "RangeIndex: 50000 entries, 0 to 49999\n",
      "Data columns (total 12 columns):\n",
      " #   Column                  Non-Null Count  Dtype  \n",
      "---  ------                  --------------  -----  \n",
      " 0   city                    50000 non-null  object \n",
      " 1   trips_in_first_30_days  50000 non-null  int64  \n",
      " 2   signup_date             50000 non-null  object \n",
      " 3   avg_rating_of_driver    41878 non-null  float64\n",
      " 4   avg_surge               50000 non-null  float64\n",
      " 5   last_trip_date          50000 non-null  object \n",
      " 6   phone                   49604 non-null  object \n",
      " 7   surge_pct               50000 non-null  float64\n",
      " 8   ultimate_black_user     50000 non-null  bool   \n",
      " 9   weekday_pct             50000 non-null  float64\n",
      " 10  avg_dist                50000 non-null  float64\n",
      " 11  avg_rating_by_driver    49799 non-null  float64\n",
      "dtypes: bool(1), float64(6), int64(1), object(4)\n",
      "memory usage: 4.2+ MB\n"
     ]
    }
   ],
   "source": [
    "dfu.info()"
   ]
  },
  {
   "cell_type": "code",
   "execution_count": 187,
   "id": "a2f9462d",
   "metadata": {
    "scrolled": false
   },
   "outputs": [],
   "source": [
    "dfu['avg_rating_of_driver'].fillna(dfu['avg_rating_of_driver'].median(), inplace=True)"
   ]
  },
  {
   "cell_type": "markdown",
   "id": "5981b7a8",
   "metadata": {},
   "source": [
    "#### We will drop the phone variable"
   ]
  },
  {
   "cell_type": "code",
   "execution_count": 190,
   "id": "d92713bc",
   "metadata": {},
   "outputs": [],
   "source": [
    "dfu = dfu[[i for i in dfu.columns if i not in 'phone']]"
   ]
  },
  {
   "cell_type": "code",
   "execution_count": 192,
   "id": "edf0a482",
   "metadata": {},
   "outputs": [
    {
     "name": "stdout",
     "output_type": "stream",
     "text": [
      "<class 'pandas.core.frame.DataFrame'>\n",
      "RangeIndex: 50000 entries, 0 to 49999\n",
      "Data columns (total 11 columns):\n",
      " #   Column                  Non-Null Count  Dtype  \n",
      "---  ------                  --------------  -----  \n",
      " 0   city                    50000 non-null  object \n",
      " 1   trips_in_first_30_days  50000 non-null  int64  \n",
      " 2   signup_date             50000 non-null  object \n",
      " 3   avg_rating_of_driver    50000 non-null  float64\n",
      " 4   avg_surge               50000 non-null  float64\n",
      " 5   last_trip_date          50000 non-null  object \n",
      " 6   surge_pct               50000 non-null  float64\n",
      " 7   ultimate_black_user     50000 non-null  bool   \n",
      " 8   weekday_pct             50000 non-null  float64\n",
      " 9   avg_dist                50000 non-null  float64\n",
      " 10  avg_rating_by_driver    49799 non-null  float64\n",
      "dtypes: bool(1), float64(6), int64(1), object(3)\n",
      "memory usage: 3.9+ MB\n"
     ]
    }
   ],
   "source": [
    "dfu.info()"
   ]
  },
  {
   "cell_type": "markdown",
   "id": "fc58a369",
   "metadata": {},
   "source": [
    "#### We will fill the avg_rating_by_driver with the median value"
   ]
  },
  {
   "cell_type": "code",
   "execution_count": 193,
   "id": "c85e5a4f",
   "metadata": {},
   "outputs": [
    {
     "data": {
      "text/plain": [
       "(array([1.8100e+02, 4.0000e+00, 1.2600e+02, 3.2000e+01, 5.0000e+00,\n",
       "        6.5600e+02, 5.2400e+02, 2.0800e+03, 4.6440e+03, 4.1547e+04]),\n",
       " array([1. , 1.4, 1.8, 2.2, 2.6, 3. , 3.4, 3.8, 4.2, 4.6, 5. ]),\n",
       " <BarContainer object of 10 artists>)"
      ]
     },
     "execution_count": 193,
     "metadata": {},
     "output_type": "execute_result"
    },
    {
     "data": {
      "image/png": "[encoded data removed]",
      "text/plain": [
       "<Figure size 432x288 with 1 Axes>"
      ]
     },
     "metadata": {
      "needs_background": "light"
     },
     "output_type": "display_data"
    }
   ],
   "source": [
    "plt.hist(dfu['avg_rating_by_driver'])"
   ]
  },
  {
   "cell_type": "code",
   "execution_count": 194,
   "id": "b2ce7a8b",
   "metadata": {},
   "outputs": [
    {
     "name": "stderr",
     "output_type": "stream",
     "text": [
      "/var/folders/4m/qh070ww90rqgmcw604kkdt8r0000gn/T/ipykernel_1809/1578085505.py:1: SettingWithCopyWarning: \n",
      "A value is trying to be set on a copy of a slice from a DataFrame\n",
      "\n",
      "See the caveats in the documentation: https://pandas.pydata.org/pandas-docs/stable/user_guide/indexing.html#returning-a-view-versus-a-copy\n",
      "  dfu['avg_rating_by_driver'].fillna(dfu['avg_rating_by_driver'].median(), inplace=True)\n"
     ]
    }
   ],
   "source": [
    "dfu['avg_rating_by_driver'].fillna(dfu['avg_rating_by_driver'].median(), inplace=True)"
   ]
  },
  {
   "cell_type": "code",
   "execution_count": 199,
   "id": "75712a47",
   "metadata": {},
   "outputs": [
    {
     "name": "stdout",
     "output_type": "stream",
     "text": [
      "<class 'pandas.core.frame.DataFrame'>\n",
      "RangeIndex: 50000 entries, 0 to 49999\n",
      "Data columns (total 11 columns):\n",
      " #   Column                  Non-Null Count  Dtype  \n",
      "---  ------                  --------------  -----  \n",
      " 0   city                    50000 non-null  object \n",
      " 1   trips_in_first_30_days  50000 non-null  int64  \n",
      " 2   signup_date             50000 non-null  object \n",
      " 3   avg_rating_of_driver    50000 non-null  float64\n",
      " 4   avg_surge               50000 non-null  float64\n",
      " 5   last_trip_date          50000 non-null  object \n",
      " 6   surge_pct               50000 non-null  float64\n",
      " 7   ultimate_black_user     50000 non-null  bool   \n",
      " 8   weekday_pct             50000 non-null  float64\n",
      " 9   avg_dist                50000 non-null  float64\n",
      " 10  avg_rating_by_driver    50000 non-null  float64\n",
      "dtypes: bool(1), float64(6), int64(1), object(3)\n",
      "memory usage: 3.9+ MB\n"
     ]
    }
   ],
   "source": [
    "dfu.info()"
   ]
  },
  {
   "cell_type": "code",
   "execution_count": 202,
   "id": "021a39ea",
   "metadata": {},
   "outputs": [
    {
     "name": "stderr",
     "output_type": "stream",
     "text": [
      "/var/folders/4m/qh070ww90rqgmcw604kkdt8r0000gn/T/ipykernel_1809/1224236347.py:2: SettingWithCopyWarning: \n",
      "A value is trying to be set on a copy of a slice from a DataFrame.\n",
      "Try using .loc[row_indexer,col_indexer] = value instead\n",
      "\n",
      "See the caveats in the documentation: https://pandas.pydata.org/pandas-docs/stable/user_guide/indexing.html#returning-a-view-versus-a-copy\n",
      "  dfu.iloc[i, 7] = int(dfu.iloc[i, 7])\n"
     ]
    }
   ],
   "source": [
    "for i in range(len(dfu['ultimate_black_user'])):\n",
    "    dfu.iloc[i, 7] = int(dfu.iloc[i, 7])"
   ]
  },
  {
   "cell_type": "markdown",
   "id": "0239312d",
   "metadata": {},
   "source": [
    "### Add Variable for Active Users"
   ]
  },
  {
   "cell_type": "code",
   "execution_count": 316,
   "id": "536eedbc",
   "metadata": {},
   "outputs": [],
   "source": [
    "dfu['signup_date'] = pd.to_datetime(dfu['signup_date'])\n",
    "for i in range(len(dfu['last_trip_date'])):\n",
    "    if dfu.loc[i,'last_trip_date'] >= pd.Timestamp(2014, 6, 1):\n",
    "        dfu.loc[i, 'active'] = 1\n",
    "    else:\n",
    "        dfu.loc[i, 'active'] = 0"
   ]
  },
  {
   "cell_type": "code",
   "execution_count": 262,
   "id": "6114fec9",
   "metadata": {},
   "outputs": [],
   "source": [
    "df_temp = pd.DataFrame(data1)"
   ]
  },
  {
   "cell_type": "code",
   "execution_count": 264,
   "id": "d6e9616a",
   "metadata": {
    "scrolled": true
   },
   "outputs": [],
   "source": [
    "dfu['last_trip_date'] = pd.to_datetime(df_temp['last_trip_date'])"
   ]
  },
  {
   "cell_type": "markdown",
   "id": "10829f8c",
   "metadata": {},
   "source": [
    "#### We can drop the two datetime objects for training"
   ]
  },
  {
   "cell_type": "code",
   "execution_count": 271,
   "id": "e95cc91f",
   "metadata": {},
   "outputs": [
    {
     "name": "stderr",
     "output_type": "stream",
     "text": [
      "/var/folders/4m/qh070ww90rqgmcw604kkdt8r0000gn/T/ipykernel_1809/3059220780.py:2: SettingWithCopyWarning: \n",
      "A value is trying to be set on a copy of a slice from a DataFrame.\n",
      "Try using .loc[row_indexer,col_indexer] = value instead\n",
      "\n",
      "See the caveats in the documentation: https://pandas.pydata.org/pandas-docs/stable/user_guide/indexing.html#returning-a-view-versus-a-copy\n",
      "  dft['ultimate_black_user'] = dft['ultimate_black_user'].astype(float)\n"
     ]
    }
   ],
   "source": [
    "dft = dfu[[i for i in dfu.columns if i not in ['signup_date', 'last_trip_date']]]\n",
    "dft['ultimate_black_user'] = dft['ultimate_black_user'].astype(float)"
   ]
  },
  {
   "cell_type": "code",
   "execution_count": 272,
   "id": "67409a04",
   "metadata": {
    "scrolled": false
   },
   "outputs": [
    {
     "name": "stdout",
     "output_type": "stream",
     "text": [
      "<class 'pandas.core.frame.DataFrame'>\n",
      "RangeIndex: 50000 entries, 0 to 49999\n",
      "Data columns (total 10 columns):\n",
      " #   Column                  Non-Null Count  Dtype  \n",
      "---  ------                  --------------  -----  \n",
      " 0   city                    50000 non-null  object \n",
      " 1   trips_in_first_30_days  50000 non-null  int64  \n",
      " 2   avg_rating_of_driver    50000 non-null  float64\n",
      " 3   avg_surge               50000 non-null  float64\n",
      " 4   surge_pct               50000 non-null  float64\n",
      " 5   ultimate_black_user     50000 non-null  float64\n",
      " 6   weekday_pct             50000 non-null  float64\n",
      " 7   avg_dist                50000 non-null  float64\n",
      " 8   avg_rating_by_driver    50000 non-null  float64\n",
      " 9   active                  50000 non-null  float64\n",
      "dtypes: float64(8), int64(1), object(1)\n",
      "memory usage: 3.8+ MB\n"
     ]
    }
   ],
   "source": [
    "dft.info()"
   ]
  },
  {
   "cell_type": "code",
   "execution_count": 273,
   "id": "3982bbab",
   "metadata": {
    "scrolled": true
   },
   "outputs": [],
   "source": [
    "one_hot = pd.get_dummies(dft['city'])\n",
    "# Drop column B as it is now encoded\n",
    "dft = dft.drop('city',axis = 1)\n",
    "# Join the encoded df\n",
    "dft = dft.join(one_hot)"
   ]
  },
  {
   "cell_type": "code",
   "execution_count": 274,
   "id": "53bd8dce",
   "metadata": {},
   "outputs": [
    {
     "name": "stdout",
     "output_type": "stream",
     "text": [
      "<class 'pandas.core.frame.DataFrame'>\n",
      "RangeIndex: 50000 entries, 0 to 49999\n",
      "Data columns (total 12 columns):\n",
      " #   Column                  Non-Null Count  Dtype  \n",
      "---  ------                  --------------  -----  \n",
      " 0   trips_in_first_30_days  50000 non-null  int64  \n",
      " 1   avg_rating_of_driver    50000 non-null  float64\n",
      " 2   avg_surge               50000 non-null  float64\n",
      " 3   surge_pct               50000 non-null  float64\n",
      " 4   ultimate_black_user     50000 non-null  float64\n",
      " 5   weekday_pct             50000 non-null  float64\n",
      " 6   avg_dist                50000 non-null  float64\n",
      " 7   avg_rating_by_driver    50000 non-null  float64\n",
      " 8   active                  50000 non-null  float64\n",
      " 9   Astapor                 50000 non-null  uint8  \n",
      " 10  King's Landing          50000 non-null  uint8  \n",
      " 11  Winterfell              50000 non-null  uint8  \n",
      "dtypes: float64(8), int64(1), uint8(3)\n",
      "memory usage: 3.6 MB\n"
     ]
    }
   ],
   "source": [
    "dft.info()"
   ]
  },
  {
   "cell_type": "code",
   "execution_count": 275,
   "id": "0d9dd418",
   "metadata": {},
   "outputs": [
    {
     "data": {
      "text/html": [
       "<div>\n",
       "<style scoped>\n",
       "    .dataframe tbody tr th:only-of-type {\n",
       "        vertical-align: middle;\n",
       "    }\n",
       "\n",
       "    .dataframe tbody tr th {\n",
       "        vertical-align: top;\n",
       "    }\n",
       "\n",
       "    .dataframe thead th {\n",
       "        text-align: right;\n",
       "    }\n",
       "</style>\n",
       "<table border=\"1\" class=\"dataframe\">\n",
       "  <thead>\n",
       "    <tr style=\"text-align: right;\">\n",
       "      <th></th>\n",
       "      <th>trips_in_first_30_days</th>\n",
       "      <th>avg_rating_of_driver</th>\n",
       "      <th>avg_surge</th>\n",
       "      <th>surge_pct</th>\n",
       "      <th>ultimate_black_user</th>\n",
       "      <th>weekday_pct</th>\n",
       "      <th>avg_dist</th>\n",
       "      <th>avg_rating_by_driver</th>\n",
       "      <th>active</th>\n",
       "      <th>Astapor</th>\n",
       "      <th>King's Landing</th>\n",
       "      <th>Winterfell</th>\n",
       "    </tr>\n",
       "  </thead>\n",
       "  <tbody>\n",
       "    <tr>\n",
       "      <th>0</th>\n",
       "      <td>4</td>\n",
       "      <td>4.7</td>\n",
       "      <td>1.10</td>\n",
       "      <td>15.4</td>\n",
       "      <td>1.0</td>\n",
       "      <td>46.2</td>\n",
       "      <td>3.67</td>\n",
       "      <td>5.0</td>\n",
       "      <td>0.0</td>\n",
       "      <td>0</td>\n",
       "      <td>1</td>\n",
       "      <td>0</td>\n",
       "    </tr>\n",
       "    <tr>\n",
       "      <th>1</th>\n",
       "      <td>0</td>\n",
       "      <td>5.0</td>\n",
       "      <td>1.00</td>\n",
       "      <td>0.0</td>\n",
       "      <td>0.0</td>\n",
       "      <td>50.0</td>\n",
       "      <td>8.26</td>\n",
       "      <td>5.0</td>\n",
       "      <td>0.0</td>\n",
       "      <td>1</td>\n",
       "      <td>0</td>\n",
       "      <td>0</td>\n",
       "    </tr>\n",
       "    <tr>\n",
       "      <th>2</th>\n",
       "      <td>3</td>\n",
       "      <td>4.3</td>\n",
       "      <td>1.00</td>\n",
       "      <td>0.0</td>\n",
       "      <td>0.0</td>\n",
       "      <td>100.0</td>\n",
       "      <td>0.77</td>\n",
       "      <td>5.0</td>\n",
       "      <td>0.0</td>\n",
       "      <td>1</td>\n",
       "      <td>0</td>\n",
       "      <td>0</td>\n",
       "    </tr>\n",
       "    <tr>\n",
       "      <th>3</th>\n",
       "      <td>9</td>\n",
       "      <td>4.6</td>\n",
       "      <td>1.14</td>\n",
       "      <td>20.0</td>\n",
       "      <td>1.0</td>\n",
       "      <td>80.0</td>\n",
       "      <td>2.36</td>\n",
       "      <td>4.9</td>\n",
       "      <td>0.0</td>\n",
       "      <td>0</td>\n",
       "      <td>1</td>\n",
       "      <td>0</td>\n",
       "    </tr>\n",
       "    <tr>\n",
       "      <th>4</th>\n",
       "      <td>14</td>\n",
       "      <td>4.4</td>\n",
       "      <td>1.19</td>\n",
       "      <td>11.8</td>\n",
       "      <td>0.0</td>\n",
       "      <td>82.4</td>\n",
       "      <td>3.13</td>\n",
       "      <td>4.9</td>\n",
       "      <td>0.0</td>\n",
       "      <td>0</td>\n",
       "      <td>0</td>\n",
       "      <td>1</td>\n",
       "    </tr>\n",
       "    <tr>\n",
       "      <th>...</th>\n",
       "      <td>...</td>\n",
       "      <td>...</td>\n",
       "      <td>...</td>\n",
       "      <td>...</td>\n",
       "      <td>...</td>\n",
       "      <td>...</td>\n",
       "      <td>...</td>\n",
       "      <td>...</td>\n",
       "      <td>...</td>\n",
       "      <td>...</td>\n",
       "      <td>...</td>\n",
       "      <td>...</td>\n",
       "    </tr>\n",
       "    <tr>\n",
       "      <th>49995</th>\n",
       "      <td>0</td>\n",
       "      <td>5.0</td>\n",
       "      <td>1.00</td>\n",
       "      <td>0.0</td>\n",
       "      <td>0.0</td>\n",
       "      <td>100.0</td>\n",
       "      <td>5.63</td>\n",
       "      <td>4.2</td>\n",
       "      <td>0.0</td>\n",
       "      <td>0</td>\n",
       "      <td>1</td>\n",
       "      <td>0</td>\n",
       "    </tr>\n",
       "    <tr>\n",
       "      <th>49996</th>\n",
       "      <td>1</td>\n",
       "      <td>4.9</td>\n",
       "      <td>1.00</td>\n",
       "      <td>0.0</td>\n",
       "      <td>0.0</td>\n",
       "      <td>0.0</td>\n",
       "      <td>0.00</td>\n",
       "      <td>4.0</td>\n",
       "      <td>0.0</td>\n",
       "      <td>1</td>\n",
       "      <td>0</td>\n",
       "      <td>0</td>\n",
       "    </tr>\n",
       "    <tr>\n",
       "      <th>49997</th>\n",
       "      <td>0</td>\n",
       "      <td>5.0</td>\n",
       "      <td>1.00</td>\n",
       "      <td>0.0</td>\n",
       "      <td>1.0</td>\n",
       "      <td>100.0</td>\n",
       "      <td>3.86</td>\n",
       "      <td>5.0</td>\n",
       "      <td>0.0</td>\n",
       "      <td>0</td>\n",
       "      <td>0</td>\n",
       "      <td>1</td>\n",
       "    </tr>\n",
       "    <tr>\n",
       "      <th>49998</th>\n",
       "      <td>2</td>\n",
       "      <td>3.0</td>\n",
       "      <td>1.00</td>\n",
       "      <td>0.0</td>\n",
       "      <td>0.0</td>\n",
       "      <td>100.0</td>\n",
       "      <td>4.58</td>\n",
       "      <td>3.5</td>\n",
       "      <td>0.0</td>\n",
       "      <td>1</td>\n",
       "      <td>0</td>\n",
       "      <td>0</td>\n",
       "    </tr>\n",
       "    <tr>\n",
       "      <th>49999</th>\n",
       "      <td>0</td>\n",
       "      <td>4.9</td>\n",
       "      <td>1.00</td>\n",
       "      <td>0.0</td>\n",
       "      <td>0.0</td>\n",
       "      <td>0.0</td>\n",
       "      <td>3.49</td>\n",
       "      <td>5.0</td>\n",
       "      <td>0.0</td>\n",
       "      <td>1</td>\n",
       "      <td>0</td>\n",
       "      <td>0</td>\n",
       "    </tr>\n",
       "  </tbody>\n",
       "</table>\n",
       "<p>50000 rows × 12 columns</p>\n",
       "</div>"
      ],
      "text/plain": [
       "       trips_in_first_30_days  avg_rating_of_driver  avg_surge  surge_pct  \\\n",
       "0                           4                   4.7       1.10       15.4   \n",
       "1                           0                   5.0       1.00        0.0   \n",
       "2                           3                   4.3       1.00        0.0   \n",
       "3                           9                   4.6       1.14       20.0   \n",
       "4                          14                   4.4       1.19       11.8   \n",
       "...                       ...                   ...        ...        ...   \n",
       "49995                       0                   5.0       1.00        0.0   \n",
       "49996                       1                   4.9       1.00        0.0   \n",
       "49997                       0                   5.0       1.00        0.0   \n",
       "49998                       2                   3.0       1.00        0.0   \n",
       "49999                       0                   4.9       1.00        0.0   \n",
       "\n",
       "       ultimate_black_user  weekday_pct  avg_dist  avg_rating_by_driver  \\\n",
       "0                      1.0         46.2      3.67                   5.0   \n",
       "1                      0.0         50.0      8.26                   5.0   \n",
       "2                      0.0        100.0      0.77                   5.0   \n",
       "3                      1.0         80.0      2.36                   4.9   \n",
       "4                      0.0         82.4      3.13                   4.9   \n",
       "...                    ...          ...       ...                   ...   \n",
       "49995                  0.0        100.0      5.63                   4.2   \n",
       "49996                  0.0          0.0      0.00                   4.0   \n",
       "49997                  1.0        100.0      3.86                   5.0   \n",
       "49998                  0.0        100.0      4.58                   3.5   \n",
       "49999                  0.0          0.0      3.49                   5.0   \n",
       "\n",
       "       active  Astapor  King's Landing  Winterfell  \n",
       "0         0.0        0               1           0  \n",
       "1         0.0        1               0           0  \n",
       "2         0.0        1               0           0  \n",
       "3         0.0        0               1           0  \n",
       "4         0.0        0               0           1  \n",
       "...       ...      ...             ...         ...  \n",
       "49995     0.0        0               1           0  \n",
       "49996     0.0        1               0           0  \n",
       "49997     0.0        0               0           1  \n",
       "49998     0.0        1               0           0  \n",
       "49999     0.0        1               0           0  \n",
       "\n",
       "[50000 rows x 12 columns]"
      ]
     },
     "execution_count": 275,
     "metadata": {},
     "output_type": "execute_result"
    }
   ],
   "source": [
    "dft"
   ]
  },
  {
   "cell_type": "code",
   "execution_count": 292,
   "id": "279f8500",
   "metadata": {
    "scrolled": true
   },
   "outputs": [],
   "source": [
    "dft['days_signed_up'] = [i[0] for i in (pd.to_datetime(df_temp['last_trip_date']) - pd.to_datetime(df_temp['signup_date'])).astype(str).str.split(' ')]"
   ]
  },
  {
   "cell_type": "code",
   "execution_count": 291,
   "id": "2751329a",
   "metadata": {
    "scrolled": true
   },
   "outputs": [
    {
     "data": {
      "text/plain": [
       "0        [143, days]\n",
       "1         [96, days]\n",
       "2          [1, days]\n",
       "3        [170, days]\n",
       "4         [47, days]\n",
       "            ...     \n",
       "49995    [131, days]\n",
       "49996      [1, days]\n",
       "49997    [111, days]\n",
       "49998      [1, days]\n",
       "49999     [92, days]\n",
       "Length: 50000, dtype: object"
      ]
     },
     "execution_count": 291,
     "metadata": {},
     "output_type": "execute_result"
    }
   ],
   "source": [
    "(pd.to_datetime(df_temp['last_trip_date']) - pd.to_datetime(df_temp['signup_date'])).astype(str).str.split(' ')"
   ]
  },
  {
   "cell_type": "code",
   "execution_count": 295,
   "id": "79d87ac8",
   "metadata": {},
   "outputs": [],
   "source": [
    "dft.days_signed_up = dft.days_signed_up.astype(int)"
   ]
  },
  {
   "cell_type": "code",
   "execution_count": 299,
   "id": "f13f64f4",
   "metadata": {},
   "outputs": [],
   "source": [
    "dft = dft.rename(columns={\"days_signed_up\": \"active_until_last\"})"
   ]
  },
  {
   "cell_type": "markdown",
   "id": "b76f5f10",
   "metadata": {},
   "source": [
    "### 1. Perform any cleaning, exploratory analysis, and/or visualizations to use the provided data for this analysis (a few sentences/plots describing your approach will suffice). What fraction of the observed users were retained?"
   ]
  },
  {
   "cell_type": "markdown",
   "id": "5c25b6e7",
   "metadata": {},
   "source": [
    "Dropped the phone variable, since it's a useless categorical variable for our model. For our training purposes, we also took away the datetime variables. For missing variables, we replaced the avg_rating_by_driver nad avg_rating_of_driver by their respective columns' medians. At the end, 37% of the population is retained"
   ]
  },
  {
   "cell_type": "code",
   "execution_count": 343,
   "id": "5b68b8e7",
   "metadata": {},
   "outputs": [],
   "source": [
    "df_is_retained = dft[dft.active==1.0]"
   ]
  },
  {
   "cell_type": "code",
   "execution_count": 344,
   "id": "4b44db10",
   "metadata": {},
   "outputs": [
    {
     "data": {
      "text/plain": [
       "0.37608"
      ]
     },
     "execution_count": 344,
     "metadata": {},
     "output_type": "execute_result"
    }
   ],
   "source": [
    "df_is_retained.shape[0]/len(dft)"
   ]
  },
  {
   "cell_type": "markdown",
   "id": "99622caa",
   "metadata": {},
   "source": [
    "### 2. Build a predictive model to help Ultimate determine whether or not a user will be active in their 6th month on the system. Discuss why you chose your approach, what alternatives you considered, and any concerns you have. How valid is your model? Include any key indicators of model performance."
   ]
  },
  {
   "cell_type": "markdown",
   "id": "4d3638aa",
   "metadata": {},
   "source": [
    "The model we chose is logistic regression, in which we will use the recall, accuracy, and r2 as our metric for selection. The reason for choosing logistic regression is that we have two outcomes for our target variable. We choose active after 6 months as our target variable which is that if the last active date is more than 5 months bigger than the sign up date, then that varialbe is considered to be 1 and 0 otherwise."
   ]
  },
  {
   "cell_type": "code",
   "execution_count": 353,
   "id": "9853c53a",
   "metadata": {},
   "outputs": [
    {
     "name": "stderr",
     "output_type": "stream",
     "text": [
      "/var/folders/4m/qh070ww90rqgmcw604kkdt8r0000gn/T/ipykernel_1809/3851708393.py:1: SettingWithCopyWarning: \n",
      "A value is trying to be set on a copy of a slice from a DataFrame.\n",
      "Try using .loc[row_indexer,col_indexer] = value instead\n",
      "\n",
      "See the caveats in the documentation: https://pandas.pydata.org/pandas-docs/stable/user_guide/indexing.html#returning-a-view-versus-a-copy\n",
      "  df_is_retained['active_after_6'] = df_is_retained.active\n"
     ]
    }
   ],
   "source": [
    "df_is_retained['active_after_6'] = df_is_retained.active\n",
    "for i in range(len(df_is_retained)):\n",
    "    if df_is_retained.iloc[i,-2] > (30*3 + 31*2):\n",
    "        df_is_retained.iloc[i,-1] = 1\n",
    "    else:\n",
    "        df_is_retained.iloc[i,-1] = 0       "
   ]
  },
  {
   "cell_type": "code",
   "execution_count": 355,
   "id": "331a9f50",
   "metadata": {},
   "outputs": [
    {
     "data": {
      "text/html": [
       "<div>\n",
       "<style scoped>\n",
       "    .dataframe tbody tr th:only-of-type {\n",
       "        vertical-align: middle;\n",
       "    }\n",
       "\n",
       "    .dataframe tbody tr th {\n",
       "        vertical-align: top;\n",
       "    }\n",
       "\n",
       "    .dataframe thead th {\n",
       "        text-align: right;\n",
       "    }\n",
       "</style>\n",
       "<table border=\"1\" class=\"dataframe\">\n",
       "  <thead>\n",
       "    <tr style=\"text-align: right;\">\n",
       "      <th></th>\n",
       "      <th>trips_in_first_30_days</th>\n",
       "      <th>avg_rating_of_driver</th>\n",
       "      <th>avg_surge</th>\n",
       "      <th>surge_pct</th>\n",
       "      <th>ultimate_black_user</th>\n",
       "      <th>weekday_pct</th>\n",
       "      <th>avg_dist</th>\n",
       "      <th>avg_rating_by_driver</th>\n",
       "      <th>active</th>\n",
       "      <th>Astapor</th>\n",
       "      <th>King's Landing</th>\n",
       "      <th>Winterfell</th>\n",
       "      <th>active_until_last</th>\n",
       "      <th>active_after_6</th>\n",
       "    </tr>\n",
       "  </thead>\n",
       "  <tbody>\n",
       "    <tr>\n",
       "      <th>0</th>\n",
       "      <td>4</td>\n",
       "      <td>4.7</td>\n",
       "      <td>1.10</td>\n",
       "      <td>15.4</td>\n",
       "      <td>1.0</td>\n",
       "      <td>46.2</td>\n",
       "      <td>3.67</td>\n",
       "      <td>5.0</td>\n",
       "      <td>1.0</td>\n",
       "      <td>0</td>\n",
       "      <td>1</td>\n",
       "      <td>0</td>\n",
       "      <td>143</td>\n",
       "      <td>0.0</td>\n",
       "    </tr>\n",
       "    <tr>\n",
       "      <th>3</th>\n",
       "      <td>9</td>\n",
       "      <td>4.6</td>\n",
       "      <td>1.14</td>\n",
       "      <td>20.0</td>\n",
       "      <td>1.0</td>\n",
       "      <td>80.0</td>\n",
       "      <td>2.36</td>\n",
       "      <td>4.9</td>\n",
       "      <td>1.0</td>\n",
       "      <td>0</td>\n",
       "      <td>1</td>\n",
       "      <td>0</td>\n",
       "      <td>170</td>\n",
       "      <td>1.0</td>\n",
       "    </tr>\n",
       "    <tr>\n",
       "      <th>5</th>\n",
       "      <td>2</td>\n",
       "      <td>3.5</td>\n",
       "      <td>1.00</td>\n",
       "      <td>0.0</td>\n",
       "      <td>1.0</td>\n",
       "      <td>100.0</td>\n",
       "      <td>10.56</td>\n",
       "      <td>5.0</td>\n",
       "      <td>1.0</td>\n",
       "      <td>0</td>\n",
       "      <td>0</td>\n",
       "      <td>1</td>\n",
       "      <td>148</td>\n",
       "      <td>0.0</td>\n",
       "    </tr>\n",
       "    <tr>\n",
       "      <th>13</th>\n",
       "      <td>0</td>\n",
       "      <td>4.0</td>\n",
       "      <td>1.38</td>\n",
       "      <td>50.0</td>\n",
       "      <td>0.0</td>\n",
       "      <td>50.0</td>\n",
       "      <td>3.04</td>\n",
       "      <td>5.0</td>\n",
       "      <td>1.0</td>\n",
       "      <td>0</td>\n",
       "      <td>1</td>\n",
       "      <td>0</td>\n",
       "      <td>130</td>\n",
       "      <td>0.0</td>\n",
       "    </tr>\n",
       "    <tr>\n",
       "      <th>16</th>\n",
       "      <td>1</td>\n",
       "      <td>5.0</td>\n",
       "      <td>1.00</td>\n",
       "      <td>0.0</td>\n",
       "      <td>1.0</td>\n",
       "      <td>50.0</td>\n",
       "      <td>10.86</td>\n",
       "      <td>3.0</td>\n",
       "      <td>1.0</td>\n",
       "      <td>0</td>\n",
       "      <td>1</td>\n",
       "      <td>0</td>\n",
       "      <td>168</td>\n",
       "      <td>1.0</td>\n",
       "    </tr>\n",
       "    <tr>\n",
       "      <th>...</th>\n",
       "      <td>...</td>\n",
       "      <td>...</td>\n",
       "      <td>...</td>\n",
       "      <td>...</td>\n",
       "      <td>...</td>\n",
       "      <td>...</td>\n",
       "      <td>...</td>\n",
       "      <td>...</td>\n",
       "      <td>...</td>\n",
       "      <td>...</td>\n",
       "      <td>...</td>\n",
       "      <td>...</td>\n",
       "      <td>...</td>\n",
       "      <td>...</td>\n",
       "    </tr>\n",
       "    <tr>\n",
       "      <th>49976</th>\n",
       "      <td>0</td>\n",
       "      <td>2.0</td>\n",
       "      <td>1.00</td>\n",
       "      <td>0.0</td>\n",
       "      <td>0.0</td>\n",
       "      <td>100.0</td>\n",
       "      <td>2.39</td>\n",
       "      <td>4.0</td>\n",
       "      <td>1.0</td>\n",
       "      <td>0</td>\n",
       "      <td>1</td>\n",
       "      <td>0</td>\n",
       "      <td>161</td>\n",
       "      <td>1.0</td>\n",
       "    </tr>\n",
       "    <tr>\n",
       "      <th>49988</th>\n",
       "      <td>1</td>\n",
       "      <td>4.5</td>\n",
       "      <td>1.00</td>\n",
       "      <td>0.0</td>\n",
       "      <td>0.0</td>\n",
       "      <td>50.0</td>\n",
       "      <td>2.53</td>\n",
       "      <td>5.0</td>\n",
       "      <td>1.0</td>\n",
       "      <td>0</td>\n",
       "      <td>1</td>\n",
       "      <td>0</td>\n",
       "      <td>145</td>\n",
       "      <td>0.0</td>\n",
       "    </tr>\n",
       "    <tr>\n",
       "      <th>49991</th>\n",
       "      <td>0</td>\n",
       "      <td>5.0</td>\n",
       "      <td>1.25</td>\n",
       "      <td>100.0</td>\n",
       "      <td>0.0</td>\n",
       "      <td>0.0</td>\n",
       "      <td>1.06</td>\n",
       "      <td>5.0</td>\n",
       "      <td>1.0</td>\n",
       "      <td>0</td>\n",
       "      <td>0</td>\n",
       "      <td>1</td>\n",
       "      <td>172</td>\n",
       "      <td>1.0</td>\n",
       "    </tr>\n",
       "    <tr>\n",
       "      <th>49993</th>\n",
       "      <td>3</td>\n",
       "      <td>4.8</td>\n",
       "      <td>1.11</td>\n",
       "      <td>11.1</td>\n",
       "      <td>1.0</td>\n",
       "      <td>55.6</td>\n",
       "      <td>2.53</td>\n",
       "      <td>4.7</td>\n",
       "      <td>1.0</td>\n",
       "      <td>1</td>\n",
       "      <td>0</td>\n",
       "      <td>0</td>\n",
       "      <td>179</td>\n",
       "      <td>1.0</td>\n",
       "    </tr>\n",
       "    <tr>\n",
       "      <th>49995</th>\n",
       "      <td>0</td>\n",
       "      <td>5.0</td>\n",
       "      <td>1.00</td>\n",
       "      <td>0.0</td>\n",
       "      <td>0.0</td>\n",
       "      <td>100.0</td>\n",
       "      <td>5.63</td>\n",
       "      <td>4.2</td>\n",
       "      <td>1.0</td>\n",
       "      <td>0</td>\n",
       "      <td>1</td>\n",
       "      <td>0</td>\n",
       "      <td>131</td>\n",
       "      <td>0.0</td>\n",
       "    </tr>\n",
       "  </tbody>\n",
       "</table>\n",
       "<p>18804 rows × 14 columns</p>\n",
       "</div>"
      ],
      "text/plain": [
       "       trips_in_first_30_days  avg_rating_of_driver  avg_surge  surge_pct  \\\n",
       "0                           4                   4.7       1.10       15.4   \n",
       "3                           9                   4.6       1.14       20.0   \n",
       "5                           2                   3.5       1.00        0.0   \n",
       "13                          0                   4.0       1.38       50.0   \n",
       "16                          1                   5.0       1.00        0.0   \n",
       "...                       ...                   ...        ...        ...   \n",
       "49976                       0                   2.0       1.00        0.0   \n",
       "49988                       1                   4.5       1.00        0.0   \n",
       "49991                       0                   5.0       1.25      100.0   \n",
       "49993                       3                   4.8       1.11       11.1   \n",
       "49995                       0                   5.0       1.00        0.0   \n",
       "\n",
       "       ultimate_black_user  weekday_pct  avg_dist  avg_rating_by_driver  \\\n",
       "0                      1.0         46.2      3.67                   5.0   \n",
       "3                      1.0         80.0      2.36                   4.9   \n",
       "5                      1.0        100.0     10.56                   5.0   \n",
       "13                     0.0         50.0      3.04                   5.0   \n",
       "16                     1.0         50.0     10.86                   3.0   \n",
       "...                    ...          ...       ...                   ...   \n",
       "49976                  0.0        100.0      2.39                   4.0   \n",
       "49988                  0.0         50.0      2.53                   5.0   \n",
       "49991                  0.0          0.0      1.06                   5.0   \n",
       "49993                  1.0         55.6      2.53                   4.7   \n",
       "49995                  0.0        100.0      5.63                   4.2   \n",
       "\n",
       "       active  Astapor  King's Landing  Winterfell  active_until_last  \\\n",
       "0         1.0        0               1           0                143   \n",
       "3         1.0        0               1           0                170   \n",
       "5         1.0        0               0           1                148   \n",
       "13        1.0        0               1           0                130   \n",
       "16        1.0        0               1           0                168   \n",
       "...       ...      ...             ...         ...                ...   \n",
       "49976     1.0        0               1           0                161   \n",
       "49988     1.0        0               1           0                145   \n",
       "49991     1.0        0               0           1                172   \n",
       "49993     1.0        1               0           0                179   \n",
       "49995     1.0        0               1           0                131   \n",
       "\n",
       "       active_after_6  \n",
       "0                 0.0  \n",
       "3                 1.0  \n",
       "5                 0.0  \n",
       "13                0.0  \n",
       "16                1.0  \n",
       "...               ...  \n",
       "49976             1.0  \n",
       "49988             0.0  \n",
       "49991             1.0  \n",
       "49993             1.0  \n",
       "49995             0.0  \n",
       "\n",
       "[18804 rows x 14 columns]"
      ]
     },
     "execution_count": 355,
     "metadata": {},
     "output_type": "execute_result"
    }
   ],
   "source": [
    "df_is_retained"
   ]
  },
  {
   "cell_type": "code",
   "execution_count": 358,
   "id": "6c74d787",
   "metadata": {},
   "outputs": [
    {
     "name": "stdout",
     "output_type": "stream",
     "text": [
      "<class 'pandas.core.frame.DataFrame'>\n",
      "Int64Index: 18804 entries, 0 to 49995\n",
      "Data columns (total 14 columns):\n",
      " #   Column                  Non-Null Count  Dtype  \n",
      "---  ------                  --------------  -----  \n",
      " 0   trips_in_first_30_days  18804 non-null  int64  \n",
      " 1   avg_rating_of_driver    18804 non-null  float64\n",
      " 2   avg_surge               18804 non-null  float64\n",
      " 3   surge_pct               18804 non-null  float64\n",
      " 4   ultimate_black_user     18804 non-null  float64\n",
      " 5   weekday_pct             18804 non-null  float64\n",
      " 6   avg_dist                18804 non-null  float64\n",
      " 7   avg_rating_by_driver    18804 non-null  float64\n",
      " 8   active                  18804 non-null  float64\n",
      " 9   Astapor                 18804 non-null  uint8  \n",
      " 10  King's Landing          18804 non-null  uint8  \n",
      " 11  Winterfell              18804 non-null  uint8  \n",
      " 12  active_until_last       18804 non-null  int64  \n",
      " 13  active_after_6          18804 non-null  float64\n",
      "dtypes: float64(9), int64(2), uint8(3)\n",
      "memory usage: 1.8 MB\n"
     ]
    }
   ],
   "source": [
    "df_is_retained.info()"
   ]
  },
  {
   "cell_type": "code",
   "execution_count": 357,
   "id": "c4a9de92",
   "metadata": {
    "scrolled": true
   },
   "outputs": [
    {
     "data": {
      "text/plain": [
       "<matplotlib.collections.PathCollection at 0x7fcf3c5472b0>"
      ]
     },
     "execution_count": 357,
     "metadata": {},
     "output_type": "execute_result"
    },
    {
     "data": {
      "image/png": "[encoded data removed]",
      "text/plain": [
       "<Figure size 432x288 with 1 Axes>"
      ]
     },
     "metadata": {
      "needs_background": "light"
     },
     "output_type": "display_data"
    }
   ],
   "source": [
    "plt.scatter(df_is_retained.trips_in_first_30_days, df_is_retained.active_after_6)"
   ]
  },
  {
   "cell_type": "code",
   "execution_count": 360,
   "id": "a08c5319",
   "metadata": {},
   "outputs": [],
   "source": [
    "X = df_is_retained[[i for i in df_is_retained.columns if i not in ['active_after_6', 'active']]]\n",
    "y = df_is_retained['active_after_6']"
   ]
  },
  {
   "cell_type": "code",
   "execution_count": 364,
   "id": "dd43264e",
   "metadata": {},
   "outputs": [],
   "source": [
    "from sklearn.model_selection import train_test_split\n",
    "from sklearn.linear_model import LogisticRegression\n",
    "from sklearn.metrics import accuracy_score"
   ]
  },
  {
   "cell_type": "code",
   "execution_count": 365,
   "id": "7d64666f",
   "metadata": {},
   "outputs": [],
   "source": [
    "X_tr, X_te, y_tr, y_te = train_test_split(X,y,test_size=0.2,random_state=123)"
   ]
  },
  {
   "cell_type": "code",
   "execution_count": 368,
   "id": "1083f6b9",
   "metadata": {},
   "outputs": [],
   "source": [
    "lr = LogisticRegression()\n",
    "pipe_lr = make_pipeline(\n",
    "    StandardScaler(),\n",
    "    SelectKBest(f_regression),\n",
    "    lr\n",
    ")\n",
    "\n",
    "k = [k+1 for k in range(len(X_tr.columns))]\n",
    "grid_params_lr = {'selectkbest__k': k}\n"
   ]
  },
  {
   "cell_type": "code",
   "execution_count": 370,
   "id": "745d3511",
   "metadata": {},
   "outputs": [
    {
     "name": "stderr",
     "output_type": "stream",
     "text": [
      "<frozen importlib._bootstrap>:228: RuntimeWarning: scipy._lib.messagestream.MessageStream size changed, may indicate binary incompatibility. Expected 56 from C header, got 64 from PyObject\n",
      "<frozen importlib._bootstrap>:228: RuntimeWarning: scipy._lib.messagestream.MessageStream size changed, may indicate binary incompatibility. Expected 56 from C header, got 64 from PyObject\n",
      "<frozen importlib._bootstrap>:228: RuntimeWarning: scipy._lib.messagestream.MessageStream size changed, may indicate binary incompatibility. Expected 56 from C header, got 64 from PyObject\n",
      "<frozen importlib._bootstrap>:228: RuntimeWarning: scipy._lib.messagestream.MessageStream size changed, may indicate binary incompatibility. Expected 56 from C header, got 64 from PyObject\n",
      "<frozen importlib._bootstrap>:228: RuntimeWarning: scipy._lib.messagestream.MessageStream size changed, may indicate binary incompatibility. Expected 56 from C header, got 64 from PyObject\n",
      "<frozen importlib._bootstrap>:228: RuntimeWarning: scipy._lib.messagestream.MessageStream size changed, may indicate binary incompatibility. Expected 56 from C header, got 64 from PyObject\n",
      "<frozen importlib._bootstrap>:228: RuntimeWarning: scipy._lib.messagestream.MessageStream size changed, may indicate binary incompatibility. Expected 56 from C header, got 64 from PyObject\n",
      "<frozen importlib._bootstrap>:228: RuntimeWarning: scipy._lib.messagestream.MessageStream size changed, may indicate binary incompatibility. Expected 56 from C header, got 64 from PyObject\n"
     ]
    },
    {
     "data": {
      "text/plain": [
       "GridSearchCV(cv=5,\n",
       "             estimator=Pipeline(steps=[('standardscaler', StandardScaler()),\n",
       "                                       ('selectkbest',\n",
       "                                        SelectKBest(score_func=<function f_regression at 0x7fcf590809d0>)),\n",
       "                                       ('logisticregression',\n",
       "                                        LogisticRegression())]),\n",
       "             n_jobs=-1,\n",
       "             param_grid={'selectkbest__k': [1, 2, 3, 4, 5, 6, 7, 8, 9, 10, 11,\n",
       "                                            12]})"
      ]
     },
     "execution_count": 370,
     "metadata": {},
     "output_type": "execute_result"
    }
   ],
   "source": [
    "lr_grid_cv = GridSearchCV(pipe_lr, param_grid=grid_params_lr, cv=5, n_jobs=-1)\n",
    "lr_grid_cv.fit(X_tr, y_tr)"
   ]
  },
  {
   "cell_type": "code",
   "execution_count": 373,
   "id": "65c868be",
   "metadata": {},
   "outputs": [],
   "source": [
    "best_lr_estimator = lr_grid_cv.best_estimator_"
   ]
  },
  {
   "cell_type": "code",
   "execution_count": 374,
   "id": "98c3f063",
   "metadata": {},
   "outputs": [
    {
     "data": {
      "text/plain": [
       "Pipeline(steps=[('standardscaler', StandardScaler()),\n",
       "                ('selectkbest',\n",
       "                 SelectKBest(k=1,\n",
       "                             score_func=<function f_regression at 0x7fcf590809d0>)),\n",
       "                ('logisticregression', LogisticRegression())])"
      ]
     },
     "execution_count": 374,
     "metadata": {},
     "output_type": "execute_result"
    }
   ],
   "source": [
    "best_lr_estimator"
   ]
  },
  {
   "cell_type": "code",
   "execution_count": 378,
   "id": "a4e2cee8",
   "metadata": {},
   "outputs": [],
   "source": [
    "ss = StandardScaler()\n",
    "X_tr = ss.fit_transform(X_tr)\n",
    "X_te = ss.transform(X_te)"
   ]
  },
  {
   "cell_type": "code",
   "execution_count": 379,
   "id": "ba63a6d1",
   "metadata": {},
   "outputs": [],
   "source": [
    "lr = LogisticRegression()\n",
    "lr = lr.fit(X_tr, y_tr)\n",
    "y_pr = lr.predict(X_te)"
   ]
  },
  {
   "cell_type": "code",
   "execution_count": 385,
   "id": "1e782edf",
   "metadata": {},
   "outputs": [
    {
     "data": {
      "text/plain": [
       "array([[-3.15197423e-02,  2.49449346e-02,  1.91834952e-02,\n",
       "        -4.46243540e-02,  2.65547563e-02, -1.06023702e-01,\n",
       "        -2.18406457e-02,  2.52667429e-02, -2.26508354e-04,\n",
       "        -5.37198143e-03,  5.32748699e-03,  2.15191621e+01]])"
      ]
     },
     "execution_count": 385,
     "metadata": {},
     "output_type": "execute_result"
    }
   ],
   "source": [
    "lr.coef_"
   ]
  },
  {
   "cell_type": "code",
   "execution_count": 393,
   "id": "968139a8",
   "metadata": {},
   "outputs": [
    {
     "data": {
      "text/plain": [
       "Index(['trips_in_first_30_days', 'avg_rating_of_driver', 'avg_surge',\n",
       "       'surge_pct', 'ultimate_black_user', 'weekday_pct', 'avg_dist',\n",
       "       'avg_rating_by_driver', 'Astapor', 'King's Landing', 'Winterfell',\n",
       "       'active_until_last'],\n",
       "      dtype='object')"
      ]
     },
     "execution_count": 393,
     "metadata": {},
     "output_type": "execute_result"
    }
   ],
   "source": [
    "X.columns"
   ]
  },
  {
   "cell_type": "code",
   "execution_count": 421,
   "id": "aeedd720",
   "metadata": {},
   "outputs": [],
   "source": [
    "list_co = lr.coef_[0].astype(str)"
   ]
  },
  {
   "cell_type": "code",
   "execution_count": 422,
   "id": "d67a2529",
   "metadata": {},
   "outputs": [
    {
     "data": {
      "text/plain": [
       "12"
      ]
     },
     "execution_count": 422,
     "metadata": {},
     "output_type": "execute_result"
    }
   ],
   "source": [
    "len(list_co)"
   ]
  },
  {
   "cell_type": "code",
   "execution_count": 423,
   "id": "5b2096e3",
   "metadata": {},
   "outputs": [],
   "source": [
    "d = {'col': ['trips_in_first_30_days', 'avg_rating_of_driver', 'avg_surge','surge_pct', 'ultimate_black_user', 'weekday_pct', 'avg_dist','avg_rating_by_driver', 'Astapor', \"King's Landing\", 'Winterfell','active_until_last'], 'coef':list_co}\n",
    "df_co = pd.DataFrame(d, columns=['col','coef'])"
   ]
  },
  {
   "cell_type": "code",
   "execution_count": 427,
   "id": "2a03267a",
   "metadata": {},
   "outputs": [
    {
     "data": {
      "text/html": [
       "<div>\n",
       "<style scoped>\n",
       "    .dataframe tbody tr th:only-of-type {\n",
       "        vertical-align: middle;\n",
       "    }\n",
       "\n",
       "    .dataframe tbody tr th {\n",
       "        vertical-align: top;\n",
       "    }\n",
       "\n",
       "    .dataframe thead th {\n",
       "        text-align: right;\n",
       "    }\n",
       "</style>\n",
       "<table border=\"1\" class=\"dataframe\">\n",
       "  <thead>\n",
       "    <tr style=\"text-align: right;\">\n",
       "      <th></th>\n",
       "      <th>col</th>\n",
       "      <th>coef</th>\n",
       "    </tr>\n",
       "  </thead>\n",
       "  <tbody>\n",
       "    <tr>\n",
       "      <th>11</th>\n",
       "      <td>active_until_last</td>\n",
       "      <td>21.51916213735199</td>\n",
       "    </tr>\n",
       "    <tr>\n",
       "      <th>4</th>\n",
       "      <td>ultimate_black_user</td>\n",
       "      <td>0.026554756265646556</td>\n",
       "    </tr>\n",
       "    <tr>\n",
       "      <th>7</th>\n",
       "      <td>avg_rating_by_driver</td>\n",
       "      <td>0.025266742867342172</td>\n",
       "    </tr>\n",
       "    <tr>\n",
       "      <th>1</th>\n",
       "      <td>avg_rating_of_driver</td>\n",
       "      <td>0.024944934550245927</td>\n",
       "    </tr>\n",
       "    <tr>\n",
       "      <th>2</th>\n",
       "      <td>avg_surge</td>\n",
       "      <td>0.019183495233098934</td>\n",
       "    </tr>\n",
       "    <tr>\n",
       "      <th>10</th>\n",
       "      <td>Winterfell</td>\n",
       "      <td>0.005327486994285237</td>\n",
       "    </tr>\n",
       "    <tr>\n",
       "      <th>5</th>\n",
       "      <td>weekday_pct</td>\n",
       "      <td>-0.10602370191501233</td>\n",
       "    </tr>\n",
       "    <tr>\n",
       "      <th>3</th>\n",
       "      <td>surge_pct</td>\n",
       "      <td>-0.04462435400060479</td>\n",
       "    </tr>\n",
       "    <tr>\n",
       "      <th>0</th>\n",
       "      <td>trips_in_first_30_days</td>\n",
       "      <td>-0.03151974232277906</td>\n",
       "    </tr>\n",
       "    <tr>\n",
       "      <th>6</th>\n",
       "      <td>avg_dist</td>\n",
       "      <td>-0.021840645671336482</td>\n",
       "    </tr>\n",
       "    <tr>\n",
       "      <th>9</th>\n",
       "      <td>King's Landing</td>\n",
       "      <td>-0.005371981432514992</td>\n",
       "    </tr>\n",
       "    <tr>\n",
       "      <th>8</th>\n",
       "      <td>Astapor</td>\n",
       "      <td>-0.00022650835397707803</td>\n",
       "    </tr>\n",
       "  </tbody>\n",
       "</table>\n",
       "</div>"
      ],
      "text/plain": [
       "                       col                     coef\n",
       "11       active_until_last        21.51916213735199\n",
       "4      ultimate_black_user     0.026554756265646556\n",
       "7     avg_rating_by_driver     0.025266742867342172\n",
       "1     avg_rating_of_driver     0.024944934550245927\n",
       "2                avg_surge     0.019183495233098934\n",
       "10              Winterfell     0.005327486994285237\n",
       "5              weekday_pct     -0.10602370191501233\n",
       "3                surge_pct     -0.04462435400060479\n",
       "0   trips_in_first_30_days     -0.03151974232277906\n",
       "6                 avg_dist    -0.021840645671336482\n",
       "9           King's Landing    -0.005371981432514992\n",
       "8                  Astapor  -0.00022650835397707803"
      ]
     },
     "execution_count": 427,
     "metadata": {},
     "output_type": "execute_result"
    }
   ],
   "source": [
    "df_co.sort_values('coef', ascending=False)"
   ]
  },
  {
   "cell_type": "code",
   "execution_count": 380,
   "id": "985e42c8",
   "metadata": {
    "scrolled": true
   },
   "outputs": [
    {
     "name": "stdout",
     "output_type": "stream",
     "text": [
      "Accuracy score:  1.0\n"
     ]
    }
   ],
   "source": [
    "print(\"Accuracy score: \", accuracy_score(y_pr, y_te))"
   ]
  },
  {
   "cell_type": "code",
   "execution_count": 383,
   "id": "11b84b12",
   "metadata": {},
   "outputs": [
    {
     "name": "stdout",
     "output_type": "stream",
     "text": [
      "(1.0, 1.0)\n"
     ]
    }
   ],
   "source": [
    "y_tr_pred_lr = lr.predict(X_tr)\n",
    "y_te_pred_lr = lr.predict(X_te)\n",
    "median_r2_simple_lr = r2_score(y_tr, y_tr_pred_lr), r2_score(y_te, y_te_pred_lr)\n",
    "print(median_r2_simple_lr)"
   ]
  },
  {
   "cell_type": "code",
   "execution_count": 384,
   "id": "0c7ac5c6",
   "metadata": {},
   "outputs": [
    {
     "data": {
      "text/plain": [
       "array([[1510,    0],\n",
       "       [   0, 2251]])"
      ]
     },
     "execution_count": 384,
     "metadata": {},
     "output_type": "execute_result"
    }
   ],
   "source": [
    "from sklearn.metrics import confusion_matrix\n",
    "confusion_matrix(y_te, y_pr)"
   ]
  },
  {
   "cell_type": "markdown",
   "id": "9cb440ef",
   "metadata": {},
   "source": [
    "### 3. Briefly discuss how Ultimate might leverage the insights gained from the model to improve its long term rider retention (again, a few sentences will suffice)."
   ]
  },
  {
   "cell_type": "markdown",
   "id": "1ce4fa71",
   "metadata": {},
   "source": [
    "From our model, we can see that being active is certainly important for a user to remain active after 5 months and consequently improve the retention rate. Moreover, attribute like active_until_last seems to play a huge factor."
   ]
  },
  {
   "cell_type": "code",
   "execution_count": null,
   "id": "231be275",
   "metadata": {},
   "outputs": [],
   "source": []
  }
 ],
 "metadata": {
  "kernelspec": {
   "display_name": "Python 3 (ipykernel)",
   "language": "python",
   "name": "python3"
  },
  "language_info": {
   "codemirror_mode": {
    "name": "ipython",
    "version": 3
   },
   "file_extension": ".py",
   "mimetype": "text/x-python",
   "name": "python",
   "nbconvert_exporter": "python",
   "pygments_lexer": "ipython3",
   "version": "3.9.12"
  }
 },
 "nbformat": 4,
 "nbformat_minor": 5
}
